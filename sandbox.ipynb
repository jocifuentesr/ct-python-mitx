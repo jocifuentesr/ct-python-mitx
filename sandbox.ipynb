{
 "cells": [
  {
   "cell_type": "code",
   "execution_count": 61,
   "metadata": {},
   "outputs": [
    {
     "name": "stdout",
     "output_type": "stream",
     "text": [
      "Please think of a number between 0 and 100!\n",
      "Is your secret number 50?\n",
      "Sorry, I did not understand your input.\n",
      "Is your secret number 50?\n",
      "Is your secret number 25?\n",
      "Game over. Your secret number was: 25\n"
     ]
    }
   ],
   "source": [
    "print(\"Please think of a number between 0 and 100!\")\n",
    "\n",
    "low = 0\n",
    "high = 100\n",
    "guess = (high + low)//2\n",
    "\n",
    "while True:\n",
    "    print(\"Is your secret number \" + str(guess) + \"?\")\n",
    "    user_input = input(\"Enter 'h' to indicate the guess is too high. Enter 'l' to indicate the guess is too low. Enter 'c' to indicate I guessed correctly. \")\n",
    "    if user_input == 'h':\n",
    "        high = guess\n",
    "    elif user_input == 'l':\n",
    "        low = guess\n",
    "    elif user_input == 'c':\n",
    "        print(\"Game over. Your secret number was: \" + str(guess))\n",
    "        break\n",
    "    else:\n",
    "        print(\"Sorry, I did not understand your input.\")\n",
    "    \n",
    "    guess = (high + low)//2"
   ]
  }
 ],
 "metadata": {
  "kernelspec": {
   "display_name": "mitx.env",
   "language": "python",
   "name": "python3"
  },
  "language_info": {
   "codemirror_mode": {
    "name": "ipython",
    "version": 3
   },
   "file_extension": ".py",
   "mimetype": "text/x-python",
   "name": "python",
   "nbconvert_exporter": "python",
   "pygments_lexer": "ipython3",
   "version": "3.11.7"
  }
 },
 "nbformat": 4,
 "nbformat_minor": 2
}
