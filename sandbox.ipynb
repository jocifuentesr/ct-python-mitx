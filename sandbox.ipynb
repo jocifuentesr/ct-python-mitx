{
 "cells": [
  {
   "cell_type": "code",
   "execution_count": null,
   "metadata": {},
   "outputs": [],
   "source": [
    "\n",
    "\"\"\"\n",
    "This code is a number guessing game. It prompts the user to think of a number between 0 and 100, \n",
    "and then uses a binary search algorithm to guess the number. The program keeps guessing until the \n",
    "user indicates that the guess is correct. It provides options for the user to indicate if the guess \n",
    "is too high or too low. Once the correct number is guessed, the program displays the secret number \n",
    "and ends the game.\n",
    "\"\"\"\n",
    "print(\"Please think of a number between 0 and 100!\")\n",
    "\n",
    "low = 0\n",
    "high = 100\n",
    "guess = (high + low)//2\n",
    "\n",
    "while True:\n",
    "    print(\"Is your secret number \" + str(guess) + \"?\")\n",
    "    user_input = input(\"Enter 'h' to indicate the guess is too high. Enter 'l' to indicate the guess is too low. Enter 'c' to indicate I guessed correctly. \")\n",
    "    if user_input == 'h':\n",
    "        high = guess\n",
    "    elif user_input == 'l':\n",
    "        low = guess\n",
    "    elif user_input == 'c':\n",
    "        print(\"Game over. Your secret number was: \" + str(guess))\n",
    "        break\n",
    "    else:\n",
    "        print(\"Sorry, I did not understand your input.\")\n",
    "    \n",
    "    guess = (high + low)//2"
   ]
  }
 ],
 "metadata": {
  "kernelspec": {
   "display_name": "mitx.env",
   "language": "python",
   "name": "python3"
  },
  "language_info": {
   "codemirror_mode": {
    "name": "ipython",
    "version": 3
   },
   "file_extension": ".py",
   "mimetype": "text/x-python",
   "name": "python",
   "nbconvert_exporter": "python",
   "pygments_lexer": "ipython3",
   "version": "3.11.7"
  }
 },
 "nbformat": 4,
 "nbformat_minor": 2
}
