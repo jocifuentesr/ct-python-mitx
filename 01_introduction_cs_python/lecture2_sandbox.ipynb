{
 "cells": [
  {
   "cell_type": "code",
   "execution_count": 28,
   "metadata": {},
   "outputs": [
    {
     "data": {
      "text/plain": [
       "8"
      ]
     },
     "execution_count": 28,
     "metadata": {},
     "output_type": "execute_result"
    }
   ],
   "source": [
    "def iterPower(base, exp):\n",
    "    '''\n",
    "    base: int or float.\n",
    "    exp: int >= 0\n",
    " \n",
    "    returns: int or float, base^exp\n",
    "    '''\n",
    "    result = 1\n",
    "    for i in range(exp):\n",
    "        result *= base\n",
    "    return result\n",
    "\n",
    "iterPower(2, 3)"
   ]
  },
  {
   "cell_type": "code",
   "execution_count": 29,
   "metadata": {},
   "outputs": [
    {
     "data": {
      "text/plain": [
       "8"
      ]
     },
     "execution_count": 29,
     "metadata": {},
     "output_type": "execute_result"
    }
   ],
   "source": [
    "def recurPower(base, exp):\n",
    "    '''\n",
    "    base: int or float.\n",
    "    exp: int >= 0\n",
    " \n",
    "    returns: int or float, base^exp\n",
    "    '''\n",
    "    if exp == 0:\n",
    "        return 1\n",
    "    else:\n",
    "        return base * recurPower(base, exp - 1)\n",
    "recurPower(2,3)"
   ]
  },
  {
   "cell_type": "code",
   "execution_count": null,
   "metadata": {},
   "outputs": [],
   "source": [
    "def gcdIter(a, b):\n",
    "    '''\n",
    "    a, b: positive integers\n",
    "    \n",
    "    returns: a positive integer, the greatest common divisor of a & b.\n",
    "    '''\n",
    "    testValue = min(a, b)\n",
    "    while testValue > 0:\n",
    "        if a % testValue == 0 and b % testValue == 0:\n",
    "            return testValue\n",
    "        testValue -= 1\n",
    "    return 1"
   ]
  },
  {
   "cell_type": "code",
   "execution_count": 31,
   "metadata": {},
   "outputs": [
    {
     "data": {
      "text/plain": [
       "21"
      ]
     },
     "execution_count": 31,
     "metadata": {},
     "output_type": "execute_result"
    }
   ],
   "source": [
    "def gcdRecur(a, b):\n",
    "    '''\n",
    "    a, b: positive integers\n",
    "    \n",
    "    returns: a positive integer, the greatest common divisor of a & b.\n",
    "    '''\n",
    "    if b == 0:\n",
    "        return a\n",
    "    else:\n",
    "        return gcdRecur(b, a % b)\n",
    "\n",
    "gcdRecur(252, 105)"
   ]
  },
  {
   "cell_type": "code",
   "execution_count": 32,
   "metadata": {},
   "outputs": [],
   "source": [
    "def isIn(char, aStr):\n",
    "    '''\n",
    "    char: a single character\n",
    "    aStr: an alphabetized string\n",
    "    \n",
    "    returns: True if char is in aStr; False otherwise\n",
    "    '''\n",
    "\n",
    "    if aStr == '':\n",
    "        return False\n",
    "    if len(aStr) == 1:\n",
    "        return aStr == char\n",
    "\n",
    "    midIndex = len(aStr) // 2\n",
    "    midChar = aStr[midIndex]\n",
    "    if char == midChar:\n",
    "        return True\n",
    "    elif char < midChar:\n",
    "        return isIn(char, aStr[:midIndex])\n",
    "    else: # char > midChar\n",
    "        return isIn(char, aStr[midIndex+1:])"
   ]
  },
  {
   "cell_type": "code",
   "execution_count": 37,
   "metadata": {},
   "outputs": [
    {
     "data": {
      "text/plain": [
       "75629586.4795"
      ]
     },
     "execution_count": 37,
     "metadata": {},
     "output_type": "execute_result"
    }
   ],
   "source": [
    "\"\"\"\n",
    "A regular polygon has n number of sides. Each side has length s.\n",
    "The area of a regular polygon is: (0.25 * n * s ** 2 ) / (tan(pi) / n))\n",
    "The perimeter of a polygon is: length of the boundary of the polygon\n",
    "Write a function called polysum that takes 2 arguments, n and s. This function should sum the area and square of the perimeter of the regular polygon. The function returns the sum, rounded to 4 decimal places.\n",
    "\"\"\"\n",
    "\n",
    "def polysum(n, s):\n",
    "    import math \n",
    "    area = (0.25 * n * s ** 2 ) / math.tan(math.pi/ n)\n",
    "    perimeter = s * n\n",
    "    return round(area + perimeter ** 2, 4)\n",
    "\n",
    "polysum(90, 93)"
   ]
  }
 ],
 "metadata": {
  "kernelspec": {
   "display_name": "mitx.env",
   "language": "python",
   "name": "python3"
  },
  "language_info": {
   "codemirror_mode": {
    "name": "ipython",
    "version": 3
   },
   "file_extension": ".py",
   "mimetype": "text/x-python",
   "name": "python",
   "nbconvert_exporter": "python",
   "pygments_lexer": "ipython3",
   "version": "3.11.7"
  }
 },
 "nbformat": 4,
 "nbformat_minor": 2
}
